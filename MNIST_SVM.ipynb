{
 "cells": [
  {
   "cell_type": "code",
   "execution_count": 1,
   "metadata": {
    "collapsed": true
   },
   "outputs": [],
   "source": [
    "import pandas as pd\n",
    "import matplotlib.pyplot as plt,matplotlib.image as mping\n",
    "from sklearn.model_selection import train_test_split\n",
    "from sklearn import svm\n",
    "%matplotlib inline\n"
   ]
  },
  {
   "cell_type": "code",and the emojis are all in good condition and is a great 66 and 
   "metadata": {
    "collapsed": true
   },
   "outputs": [],
   "source": [
    "train = pd.read_csv('train.csv')\n",
    "images = train.iloc[:, 1:]\n",
    "labels = train.iloc[:, :1]\n",
    "\n",
    "train_images, test_images, train_labels, test_labels = train_test_split(images, labels, train_size = 0.8, random_state = 0)"
   ]
  },
  {
   "cell_type": "code",
   "execution_count": 3,
   "metadata": {},
   "outputs": [
    {
     "data": {
      "text/plain": [
       "<matplotlib.text.Text at 0x7f8c521359b0>"
      ]
     },
     "execution_count": 3,
     "metadata": {},
     "output_type": "execute_result"
    },
    {
     "data": {
      "image/png": "iVBORw0KGgoAAAANSUhEUgAAAP8AAAEICAYAAACQ6CLfAAAABHNCSVQICAgIfAhkiAAAAAlwSFlz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\nRK5CYII=\n",
      "text/plain": [
       "<matplotlib.figure.Figure at 0x7f8c52ee29b0>"
      ]
     },
     "metadata": {},
     "output_type": "display_data"
    }
   ],
   "source": [
    "i = 8\n",
    "img = train_images.iloc[i].as_matrix()\n",
    "img = img.reshape((28,28))\n",
    "plt.imshow(img, cmap= 'gray')\n",
    "plt.title(train_labels.iloc[i,0])"
   ]
  },
  {
   "cell_type": "code",
   "execution_count": 4,
   "metadata": {},
   "outputs": [
    {
     "data": {
      "text/plain": [
       "(array([ 649.,   10.,    9.,   11.,    7.,    9.,    9.,    6.,   10.,   64.]),\n",
       " array([   0. ,   25.5,   51. ,   76.5,  102. ,  127.5,  153. ,  178.5,\n",
       "         204. ,  229.5,  255. ]),\n",
       " <a list of 10 Patch objects>)"
      ]
     },
     "execution_count": 4,
     "metadata": {},
     "output_type": "execute_result"
    },
    {
     "data": {
      "image/png": "iVBORw0KGgoAAAANSUhEUgAAAXoAAAD8CAYAAAB5Pm/hAAAABHNCSVQICAgIfAhkiAAAAAlwSFlz\nAAALEgAACxIB0t1+/AAAD8hJREFUeJzt3W+IXXl9x/H3x0RjUVuT7nQISWgihJZswV0ZgkWRtkET\n19JsnyxTaBlKIE9SUWgpSX1Q+yCwFir1QVdI1XZorSH4hwQVS4yKFMrGWY27m8Q0o9mQhPwZFVH7\nIDbx2wdzYu+mO5k7f25u5pf3C8L5nd/5nTnfX367n5w5996ZVBWSpHa9atgFSJIGy6CXpMYZ9JLU\nOINekhpn0EtS4wx6SWqcQS9JjTPoJalxBr0kNW71sAsAeOSRR2rz5s3DLkOSVpTnnnvu+1U1Mt+4\nByLoN2/ezNTU1LDLkKQVJcnFfsb56EaSGmfQS1LjDHpJapxBL0mNM+glqXEGvSQ1zqCXpMYZ9JLU\nOINekhr3QHwydqk27//CUK770tPvGcp1JWkhvKOXpMYZ9JLUOINekhpn0EtS4wx6SWqcQS9JjTPo\nJalxBr0kNc6gl6TGGfSS1DiDXpIa11fQJ3ljkk8n+U6Ss0l+O8m6JMeTnO+2a3vGH0gyneRckp2D\nK1+SNJ9+7+g/Anypqn4TeDNwFtgPnKiqrcCJbp8k24Bx4FFgF/BMklXLXbgkqT/zBn2SXwHeAXwc\noKp+VlU/AnYDk92wSeDJrr0bOFxVN6vqAjANbF/uwiVJ/ennjn4LMAP8U5JvJflYktcBo1V1tRtz\nDRjt2huASz3nX+76XibJ3iRTSaZmZmYWPwNJ0j31E/SrgbcAH62qx4H/pntMc0dVFVALuXBVHaqq\nsaoaGxkZWcipkqQF6CfoLwOXq+rZbv/TzAb/9STrAbrtje74FWBTz/kbuz5J0hDMG/RVdQ24lOQ3\nuq4dwBngGDDR9U0AR7v2MWA8yZokW4CtwMllrVqS1Ld+f5Xge4FPJnkN8D3gT5n9R+JIkj3AReAp\ngKo6neQIs/8Y3AL2VdXtZa9cktSXvoK+qk4BY69waMcc4w8CB5dQlyRpmfjJWElqnEEvSY0z6CWp\ncQa9JDXOoJekxhn0ktQ4g16SGmfQS1LjDHpJapxBL0mNM+glqXEGvSQ1zqCXpMYZ9JLUOINekhpn\n0EtS4wx6SWqcQS9JjTPoJalxBr0kNc6gl6TGGfSS1DiDXpIa11fQJ3kpyQtJTiWZ6vrWJTme5Hy3\nXdsz/kCS6STnkuwcVPGSpPkt5I7+d6vqsaoa6/b3AyeqaitwotsnyTZgHHgU2AU8k2TVMtYsSVqA\npTy62Q1Mdu1J4Mme/sNVdbOqLgDTwPYlXEeStAT9Bn0BX07yXJK9Xd9oVV3t2teA0a69AbjUc+7l\nru9lkuxNMpVkamZmZhGlS5L6sbrPcW+vqitJfg04nuQ7vQerqpLUQi5cVYeAQwBjY2MLOleS1L++\n7uir6kq3vQF8jtlHMdeTrAfotje64VeATT2nb+z6JElDMG/QJ3ldkjfcaQPvAl4EjgET3bAJ4GjX\nPgaMJ1mTZAuwFTi53IVLkvrTz6ObUeBzSe6M/7eq+lKSbwBHkuwBLgJPAVTV6SRHgDPALWBfVd0e\nSPWSpHnNG/RV9T3gza/Q/wNgxxznHAQOLrk6SdKS+clYSWqcQS9JjTPoJalxBr0kNc6gl6TGGfSS\n1DiDXpIaZ9BLUuMMeklqnEEvSY0z6CWpcQa9JDXOoJekxhn0ktQ4g16SGmfQS1LjDHpJapxBL0mN\nM+glqXEGvSQ1zqCXpMYZ9JLUOINekhrXd9AnWZXkW0k+3+2vS3I8yfluu7Zn7IEk00nOJdk5iMIl\nSf1ZyB39+4CzPfv7gRNVtRU40e2TZBswDjwK7AKeSbJqecqVJC1UX0GfZCPwHuBjPd27gcmuPQk8\n2dN/uKpuVtUFYBrYvjzlSpIWqt87+r8H/hL4eU/faFVd7drXgNGuvQG41DPuctf3Mkn2JplKMjUz\nM7OwqiVJfZs36JP8PnCjqp6ba0xVFVALuXBVHaqqsaoaGxkZWcipkqQFWN3HmLcBf5DkCeC1wC8n\n+VfgepL1VXU1yXrgRjf+CrCp5/yNXZ8kaQjmvaOvqgNVtbGqNjP7IutXquqPgWPARDdsAjjatY8B\n40nWJNkCbAVOLnvlkqS+9HNHP5engSNJ9gAXgacAqup0kiPAGeAWsK+qbi+5UknSoiwo6Kvqa8DX\nuvYPgB1zjDsIHFxibZKkZeAnYyWpcQa9JDXOoJekxhn0ktQ4g16SGmfQS1LjDHpJapxBL0mNM+gl\nqXEGvSQ1zqCXpMYZ9JLUOINekhpn0EtS4wx6SWqcQS9JjTPoJalxBr0kNc6gl6TGGfSS1DiDXpIa\nZ9BLUuPmDfokr01yMsm3k5xO8jdd/7okx5Oc77Zre845kGQ6ybkkOwc5AUnSvfVzR38T+L2qejPw\nGLAryVuB/cCJqtoKnOj2SbINGAceBXYBzyRZNYjiJUnzmzfoa9ZPu91Xd38K2A1Mdv2TwJNdezdw\nuKpuVtUFYBrYvqxVS5L61tcz+iSrkpwCbgDHq+pZYLSqrnZDrgGjXXsDcKnn9MtdnyRpCPoK+qq6\nXVWPARuB7Ul+667jxexdft+S7E0ylWRqZmZmIadKkhZgQe+6qaofAV9l9tn79STrAbrtjW7YFWBT\nz2kbu767v9ahqhqrqrGRkZHF1C5J6kM/77oZSfLGrv1LwDuB7wDHgIlu2ARwtGsfA8aTrEmyBdgK\nnFzuwiVJ/Vndx5j1wGT3zplXAUeq6vNJ/hM4kmQPcBF4CqCqTic5ApwBbgH7qur2YMqXJM1n3qCv\nqueBx1+h/wfAjjnOOQgcXHJ1kqQl85OxktQ4g16SGmfQS1LjDHpJapxBL0mNM+glqXEGvSQ1zqCX\npMYZ9JLUOINekhpn0EtS4wx6SWqcQS9JjTPoJalxBr0kNc6gl6TGGfSS1DiDXpIaZ9BLUuMMeklq\nnEEvSY0z6CWpcQa9JDVu3qBPsinJV5OcSXI6yfu6/nVJjic5323X9pxzIMl0knNJdg5yApKke+vn\njv4W8OdVtQ14K7AvyTZgP3CiqrYCJ7p9umPjwKPALuCZJKsGUbwkaX7zBn1VXa2qb3btnwBngQ3A\nbmCyGzYJPNm1dwOHq+pmVV0ApoHty124JKk/C3pGn2Qz8DjwLDBaVVe7Q9eA0a69AbjUc9rlrk+S\nNAR9B32S1wOfAd5fVT/uPVZVBdRCLpxkb5KpJFMzMzMLOVWStAB9BX2SVzMb8p+sqs923deTrO+O\nrwdudP1XgE09p2/s+l6mqg5V1VhVjY2MjCy2fknSPPp5102AjwNnq+rDPYeOARNdewI42tM/nmRN\nki3AVuDk8pUsSVqI1X2MeRvwJ8ALSU51fX8FPA0cSbIHuAg8BVBVp5McAc4w+46dfVV1e9krlyT1\nZd6gr6r/ADLH4R1znHMQOLiEuiRJy8RPxkpS4wx6SWqcQS9JjTPoJalxBr0kNc6gl6TGGfSS1DiD\nXpIaZ9BLUuMMeklqnEEvSY0z6CWpcQa9JDXOoJekxhn0ktQ4g16SGmfQS1LjDHpJapxBL0mNM+gl\nqXEGvSQ1zqCXpMYZ9JLUuHmDPsknktxI8mJP37okx5Oc77Zre44dSDKd5FySnYMqXJLUn37u6P8Z\n2HVX337gRFVtBU50+yTZBowDj3bnPJNk1bJVK0lasHmDvqq+Dvzwru7dwGTXngSe7Ok/XFU3q+oC\nMA1sX6ZaJUmLsNhn9KNVdbVrXwNGu/YG4FLPuMtdnyRpSJb8YmxVFVALPS/J3iRTSaZmZmaWWoYk\naQ6LDfrrSdYDdNsbXf8VYFPPuI1d3/9TVYeqaqyqxkZGRhZZhiRpPosN+mPARNeeAI729I8nWZNk\nC7AVOLm0EiVJS7F6vgFJPgX8DvBIksvAXwNPA0eS7AEuAk8BVNXpJEeAM8AtYF9V3R5Q7ZKkPswb\n9FX1R3Mc2jHH+IPAwaUUJUlaPn4yVpIaZ9BLUuMMeklqnEEvSY0z6CWpcQa9JDVu3rdXSlLrNu//\nwtCu/dLT7xn4Nbyjl6TGGfSS1DiDXpIaZ9BLUuMMeklqnEEvSY0z6CWpcQa9JDXOoJekxhn0ktQ4\ng16SGmfQS1LjDHpJapxBL0mNM+glqXEGvSQ1bmC/eCTJLuAjwCrgY1X19KCupftnWL+g4X78cgap\nVQMJ+iSrgH8A3glcBr6R5FhVnRnE9YZlmL+VRvfPw7jOw/qH9WH8u74fBnVHvx2YrqrvASQ5DOwG\nmgp63T8GwP3l33dbBvWMfgNwqWf/ctcnSbrPhvbLwZPsBfZ2uz9Ncm4JX+4R4PtLr2pFeJjmCs63\nZQ/TXGGO+eZDS/qav97PoEEF/RVgU8/+xq7vF6rqEHBoOS6WZKqqxpbjaz3oHqa5gvNt2cM0Vxju\nfAf16OYbwNYkW5K8BhgHjg3oWpKkexjIHX1V3UryZ8C/M/v2yk9U1elBXEuSdG8De0ZfVV8Evjio\nr3+XZXkEtEI8THMF59uyh2muMMT5pqqGdW1J0n3gj0CQpMat6KBPsivJuSTTSfYPu55BSPJSkheS\nnEoy1fWtS3I8yfluu3bYdS5Gkk8kuZHkxZ6+OeeW5EC31ueS7BxO1Ys3x3w/mORKt76nkjzRc2zF\nzjfJpiRfTXImyekk7+v6m1zfe8z3wVjfqlqRf5h9kfe7wJuA1wDfBrYNu64BzPMl4JG7+v4W2N+1\n9wMfGnadi5zbO4C3AC/ONzdgW7fGa4At3dqvGvYclmG+HwT+4hXGruj5AuuBt3TtNwD/1c2pyfW9\nx3wfiPVdyXf0v/gxC1X1M+DOj1l4GOwGJrv2JPDkEGtZtKr6OvDDu7rnmttu4HBV3ayqC8A0s/8N\nrBhzzHcuK3q+VXW1qr7ZtX8CnGX20/FNru895juX+zrflRz0D8uPWSjgy0me6z5NDDBaVVe79jVg\ndDilDcRcc2t5vd+b5Pnu0c6dRxnNzDfJZuBx4FkegvW9a77wAKzvSg76h8Xbq+ox4N3AviTv6D1Y\ns98HNvnWqZbn1uOjzD5+fAy4CvzdcMtZXkleD3wGeH9V/bj3WIvr+wrzfSDWdyUH/bw/ZqEFVXWl\n294APsfst3fXk6wH6LY3hlfhsptrbk2ud1Vdr6rbVfVz4B/5v2/fV/x8k7ya2dD7ZFV9tutudn1f\nab4Pyvqu5KBv/scsJHldkjfcaQPvAl5kdp4T3bAJ4OhwKhyIueZ2DBhPsibJFmArcHII9S2rO6HX\n+UNm1xdW+HyTBPg4cLaqPtxzqMn1nWu+D8z6DvvV6iW+0v0Es69ufxf4wLDrGcD83sTsK/PfBk7f\nmSPwq8AJ4DzwZWDdsGtd5Pw+xey3s//D7DPKPfeaG/CBbq3PAe8edv3LNN9/AV4Anmf2f/71LcwX\neDuzj2WeB051f55odX3vMd8HYn39ZKwkNW4lP7qRJPXBoJekxhn0ktQ4g16SGmfQS1LjDHpJapxB\nL0mNM+glqXH/C2M+zh9l7DqRAAAAAElFTkSuQmCC\n",
      "text/plain": [
       "<matplotlib.figure.Figure at 0x7f8c52ed3780>"
      ]
     },
     "metadata": {},
     "output_type": "display_data"
    }
   ],
   "source": [
    "plt.hist(train_images.iloc[i])"
   ]
  },
  {
   "cell_type": "code",
   "execution_count": 5,
   "metadata": {},
   "outputs": [
    {
     "name": "stderr",
     "output_type": "stream",
     "text": [
      "/home/sg98/anaconda3/lib/python3.6/site-packages/ipykernel_launcher.py:1: SettingWithCopyWarning: \n",
      "A value is trying to be set on a copy of a slice from a DataFrame.\n",
      "Try using .loc[row_indexer,col_indexer] = value instead\n",
      "\n",
      "See the caveats in the documentation: http://pandas.pydata.org/pandas-docs/stable/indexing.html#indexing-view-versus-copy\n",
      "  \"\"\"Entry point for launching an IPython kernel.\n",
      "/home/sg98/anaconda3/lib/python3.6/site-packages/pandas/core/frame.py:2464: SettingWithCopyWarning: \n",
      "A value is trying to be set on a copy of a slice from a DataFrame\n",
      "\n",
      "See the caveats in the documentation: http://pandas.pydata.org/pandas-docs/stable/indexing.html#indexing-view-versus-copy\n",
      "  self._where(-key, value, inplace=True)\n",
      "/home/sg98/anaconda3/lib/python3.6/site-packages/ipykernel_launcher.py:2: SettingWithCopyWarning: \n",
      "A value is trying to be set on a copy of a slice from a DataFrame.\n",
      "Try using .loc[row_indexer,col_indexer] = value instead\n",
      "\n",
      "See the caveats in the documentation: http://pandas.pydata.org/pandas-docs/stable/indexing.html#indexing-view-versus-copy\n",
      "  \n"
     ]
    },
    {
     "data": {
      "text/plain": [
       "0.94285714285714284"
      ]
     },
     "execution_count": 5,
     "metadata": {},
     "output_type": "execute_result"
    }
   ],
   "source": [
    "test_images[test_images>0]=1\n",
    "train_images[train_images>0]=1\n",
    "clf = svm.SVC()\n",
    "clf.fit(train_images, train_labels.values.ravel())\n",
    "clf.score(test_images,test_labels)\n"
   ]
  },
  {
   "cell_type": "code",
   "execution_count": 6,
   "metadata": {},
   "outputs": [],
   "source": [
    "test = pd.read_csv('test.csv')\n",
    "test[test > 0] = 1\n",
    "\n",
    "results = clf.predict(test[:])"
   ]
  },
  {
   "cell_type": "code",
   "execution_count": 10,
   "metadata": {},
   "outputs": [
    {
     "data": {
      "text/plain": [
       "array([2, 0, 9, ..., 3, 9, 2])"
      ]
     },
     "execution_count": 10,
     "metadata": {},
     "output_type": "execute_result"
    }
   ],
   "source": [
    "results"
   ]
  },
  {
   "cell_type": "code",
   "execution_count": 17,
   "metadata": {},
   "outputs": [],
   "source": [
    "df = pd.DataFrame(results)\n",
    "df.index.name='ImageId'\n",
    "df.index+=1\n",
    "df.columns=['Label']\n",
    "\n",
    "df.to_csv('results_finl.csv', header=True)\n",
    "\n"
   ]
  },
  {
   "cell_type": "code",
   "execution_count": null,
   "metadata": {
    "collapsed": true
   },
   "outputs": [],
   "source": []
  }
 ],
 "metadata": {
  "kernelspec": {
   "display_name": "Python 3",
   "language": "python",
   "name": "python3"
  },
  "language_info": {
   "codemirror_mode": {
    "name": "ipython",
    "version": 3
   },
   "file_extension": ".py",
   "mimetype": "text/x-python",
   "name": "python",
   "nbconvert_exporter": "python",
   "pygments_lexer": "ipython3",
   "version": "3.6.1"
  }
 },
 "nbformat": 4,
 "nbformat_minor": 2
}
